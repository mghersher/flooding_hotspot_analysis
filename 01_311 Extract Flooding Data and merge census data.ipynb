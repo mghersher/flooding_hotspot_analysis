{
 "cells": [
  {
   "cell_type": "markdown",
   "metadata": {},
   "source": [
    "## Notebook summary\n",
    "\n",
    "This notebook pulls all flooding related 311 records from NYC's API and cleans them, using the latitude and longitude as the geometry column of a geodataframe. It also pulls in block-level population data from the 2020 census and combines it with block boundaries into a shapefile. It exports flooding complaints and the 2020 population block-level shapefile. These are the files loaded into 02_Hex grid.ipynb."
   ]
  },
  {
   "cell_type": "code",
   "execution_count": 2,
   "metadata": {},
   "outputs": [
    {
     "name": "stderr",
     "output_type": "stream",
     "text": [
      "/usr/local/anaconda3/envs/geo_env/lib/python3.9/site-packages/pyproj/__init__.py:76: UserWarning: pyproj unable to set database path.\n",
      "  _pyproj_global_context_initialize()\n"
     ]
    },
    {
     "name": "stdout",
     "output_type": "stream",
     "text": [
      "/usr/local/anaconda3/envs/py36/share/proj\n"
     ]
    }
   ],
   "source": [
    "import pandas as pd\n",
    "import requests\n",
    "import json\n",
    "import matplotlib.pyplot as plt\n",
    "import geopandas as gpd\n",
    "import mapclassify\n",
    "import pyproj\n",
    "\n",
    "#My conda environment points to the wrong database path so I need to fix this to be able to set the crs of my geodataframe\n",
    "print(pyproj.datadir.get_data_dir())\n",
    "pyproj.datadir.set_data_dir('/usr/local/anaconda3/envs/geo_env_work_pyproj/share/proj')"
   ]
  },
  {
   "cell_type": "markdown",
   "metadata": {},
   "source": [
    "## Load population data"
   ]
  },
  {
   "cell_type": "markdown",
   "metadata": {},
   "source": [
    "### Load NYC block shapefiles clipped at shoreline\n",
    "Data source: https://data.cityofnewyork.us/City-Government/2020-Census-Blocks-Tabular/wmsu-5muw"
   ]
  },
  {
   "cell_type": "code",
   "execution_count": 3,
   "metadata": {},
   "outputs": [
    {
     "data": {
      "text/html": [
       "<div>\n",
       "<style scoped>\n",
       "    .dataframe tbody tr th:only-of-type {\n",
       "        vertical-align: middle;\n",
       "    }\n",
       "\n",
       "    .dataframe tbody tr th {\n",
       "        vertical-align: top;\n",
       "    }\n",
       "\n",
       "    .dataframe thead th {\n",
       "        text-align: right;\n",
       "    }\n",
       "</style>\n",
       "<table border=\"1\" class=\"dataframe\">\n",
       "  <thead>\n",
       "    <tr style=\"text-align: right;\">\n",
       "      <th></th>\n",
       "      <th>cb2020</th>\n",
       "      <th>borocode</th>\n",
       "      <th>boroname</th>\n",
       "      <th>ct2020</th>\n",
       "      <th>bctcb2020</th>\n",
       "      <th>geoid</th>\n",
       "      <th>shape_leng</th>\n",
       "      <th>shape_area</th>\n",
       "      <th>geometry</th>\n",
       "    </tr>\n",
       "  </thead>\n",
       "  <tbody>\n",
       "    <tr>\n",
       "      <th>0</th>\n",
       "      <td>1000</td>\n",
       "      <td>1</td>\n",
       "      <td>Manhattan</td>\n",
       "      <td>000100</td>\n",
       "      <td>10001001000</td>\n",
       "      <td>360610001001000</td>\n",
       "      <td>6627.858318</td>\n",
       "      <td>1.204255e+06</td>\n",
       "      <td>POLYGON ((-74.03995 40.70089, -74.03945 40.700...</td>\n",
       "    </tr>\n",
       "    <tr>\n",
       "      <th>1</th>\n",
       "      <td>1001</td>\n",
       "      <td>1</td>\n",
       "      <td>Manhattan</td>\n",
       "      <td>000100</td>\n",
       "      <td>10001001001</td>\n",
       "      <td>360610001001001</td>\n",
       "      <td>4395.190183</td>\n",
       "      <td>6.401664e+05</td>\n",
       "      <td>POLYGON ((-74.04388 40.69019, -74.04351 40.689...</td>\n",
       "    </tr>\n",
       "    <tr>\n",
       "      <th>2</th>\n",
       "      <td>1000</td>\n",
       "      <td>1</td>\n",
       "      <td>Manhattan</td>\n",
       "      <td>000201</td>\n",
       "      <td>10002011000</td>\n",
       "      <td>360610002011000</td>\n",
       "      <td>1569.384823</td>\n",
       "      <td>1.292763e+05</td>\n",
       "      <td>POLYGON ((-73.98511 40.71379, -73.98706 40.713...</td>\n",
       "    </tr>\n",
       "    <tr>\n",
       "      <th>3</th>\n",
       "      <td>1001</td>\n",
       "      <td>1</td>\n",
       "      <td>Manhattan</td>\n",
       "      <td>000201</td>\n",
       "      <td>10002011001</td>\n",
       "      <td>360610002011001</td>\n",
       "      <td>1594.262855</td>\n",
       "      <td>1.393604e+05</td>\n",
       "      <td>POLYGON ((-73.98506 40.71308, -73.98544 40.713...</td>\n",
       "    </tr>\n",
       "    <tr>\n",
       "      <th>4</th>\n",
       "      <td>2000</td>\n",
       "      <td>1</td>\n",
       "      <td>Manhattan</td>\n",
       "      <td>000201</td>\n",
       "      <td>10002012000</td>\n",
       "      <td>360610002012000</td>\n",
       "      <td>2055.295961</td>\n",
       "      <td>2.633084e+05</td>\n",
       "      <td>POLYGON ((-73.98495 40.71236, -73.98485 40.711...</td>\n",
       "    </tr>\n",
       "    <tr>\n",
       "      <th>...</th>\n",
       "      <td>...</td>\n",
       "      <td>...</td>\n",
       "      <td>...</td>\n",
       "      <td>...</td>\n",
       "      <td>...</td>\n",
       "      <td>...</td>\n",
       "      <td>...</td>\n",
       "      <td>...</td>\n",
       "      <td>...</td>\n",
       "    </tr>\n",
       "    <tr>\n",
       "      <th>37585</th>\n",
       "      <td>1023</td>\n",
       "      <td>5</td>\n",
       "      <td>Staten Island</td>\n",
       "      <td>032300</td>\n",
       "      <td>50323001023</td>\n",
       "      <td>360850323001023</td>\n",
       "      <td>989.980458</td>\n",
       "      <td>4.058549e+04</td>\n",
       "      <td>POLYGON ((-74.17476 40.62580, -74.17580 40.625...</td>\n",
       "    </tr>\n",
       "    <tr>\n",
       "      <th>37586</th>\n",
       "      <td>1024</td>\n",
       "      <td>5</td>\n",
       "      <td>Staten Island</td>\n",
       "      <td>032300</td>\n",
       "      <td>50323001024</td>\n",
       "      <td>360850323001024</td>\n",
       "      <td>1415.098063</td>\n",
       "      <td>7.627434e+04</td>\n",
       "      <td>POLYGON ((-74.17580 40.62593, -74.17657 40.625...</td>\n",
       "    </tr>\n",
       "    <tr>\n",
       "      <th>37587</th>\n",
       "      <td>1025</td>\n",
       "      <td>5</td>\n",
       "      <td>Staten Island</td>\n",
       "      <td>032300</td>\n",
       "      <td>50323001025</td>\n",
       "      <td>360850323001025</td>\n",
       "      <td>6111.207288</td>\n",
       "      <td>1.141635e+06</td>\n",
       "      <td>POLYGON ((-74.16848 40.62157, -74.16873 40.621...</td>\n",
       "    </tr>\n",
       "    <tr>\n",
       "      <th>37588</th>\n",
       "      <td>0005</td>\n",
       "      <td>5</td>\n",
       "      <td>Staten Island</td>\n",
       "      <td>990100</td>\n",
       "      <td>59901000005</td>\n",
       "      <td>360859901000005</td>\n",
       "      <td>1736.373482</td>\n",
       "      <td>1.283016e+05</td>\n",
       "      <td>POLYGON ((-74.05051 40.56642, -74.05047 40.566...</td>\n",
       "    </tr>\n",
       "    <tr>\n",
       "      <th>37589</th>\n",
       "      <td>0006</td>\n",
       "      <td>5</td>\n",
       "      <td>Staten Island</td>\n",
       "      <td>990100</td>\n",
       "      <td>59901000006</td>\n",
       "      <td>360859901000006</td>\n",
       "      <td>3006.754349</td>\n",
       "      <td>5.074004e+05</td>\n",
       "      <td>POLYGON ((-74.05314 40.57770, -74.05406 40.577...</td>\n",
       "    </tr>\n",
       "  </tbody>\n",
       "</table>\n",
       "<p>37590 rows × 9 columns</p>\n",
       "</div>"
      ],
      "text/plain": [
       "      cb2020 borocode       boroname  ct2020    bctcb2020            geoid  \\\n",
       "0       1000        1      Manhattan  000100  10001001000  360610001001000   \n",
       "1       1001        1      Manhattan  000100  10001001001  360610001001001   \n",
       "2       1000        1      Manhattan  000201  10002011000  360610002011000   \n",
       "3       1001        1      Manhattan  000201  10002011001  360610002011001   \n",
       "4       2000        1      Manhattan  000201  10002012000  360610002012000   \n",
       "...      ...      ...            ...     ...          ...              ...   \n",
       "37585   1023        5  Staten Island  032300  50323001023  360850323001023   \n",
       "37586   1024        5  Staten Island  032300  50323001024  360850323001024   \n",
       "37587   1025        5  Staten Island  032300  50323001025  360850323001025   \n",
       "37588   0005        5  Staten Island  990100  59901000005  360859901000005   \n",
       "37589   0006        5  Staten Island  990100  59901000006  360859901000006   \n",
       "\n",
       "        shape_leng    shape_area  \\\n",
       "0      6627.858318  1.204255e+06   \n",
       "1      4395.190183  6.401664e+05   \n",
       "2      1569.384823  1.292763e+05   \n",
       "3      1594.262855  1.393604e+05   \n",
       "4      2055.295961  2.633084e+05   \n",
       "...            ...           ...   \n",
       "37585   989.980458  4.058549e+04   \n",
       "37586  1415.098063  7.627434e+04   \n",
       "37587  6111.207288  1.141635e+06   \n",
       "37588  1736.373482  1.283016e+05   \n",
       "37589  3006.754349  5.074004e+05   \n",
       "\n",
       "                                                geometry  \n",
       "0      POLYGON ((-74.03995 40.70089, -74.03945 40.700...  \n",
       "1      POLYGON ((-74.04388 40.69019, -74.04351 40.689...  \n",
       "2      POLYGON ((-73.98511 40.71379, -73.98706 40.713...  \n",
       "3      POLYGON ((-73.98506 40.71308, -73.98544 40.713...  \n",
       "4      POLYGON ((-73.98495 40.71236, -73.98485 40.711...  \n",
       "...                                                  ...  \n",
       "37585  POLYGON ((-74.17476 40.62580, -74.17580 40.625...  \n",
       "37586  POLYGON ((-74.17580 40.62593, -74.17657 40.625...  \n",
       "37587  POLYGON ((-74.16848 40.62157, -74.16873 40.621...  \n",
       "37588  POLYGON ((-74.05051 40.56642, -74.05047 40.566...  \n",
       "37589  POLYGON ((-74.05314 40.57770, -74.05406 40.577...  \n",
       "\n",
       "[37590 rows x 9 columns]"
      ]
     },
     "execution_count": 3,
     "metadata": {},
     "output_type": "execute_result"
    }
   ],
   "source": [
    "block_gdf = gpd.read_file('raw_data/2020 Census Blocks - Tabular/geo_export_83a8840a-da9c-4916-b5c3-05470a433f84.shp')\n",
    "block_gdf = block_gdf.to_crs(epsg = 4326)\n",
    "block_gdf"
   ]
  },
  {
   "cell_type": "markdown",
   "metadata": {},
   "source": [
    "### Load block level population data\n",
    "Data source: https://data.census.gov/cedsci/advanced"
   ]
  },
  {
   "cell_type": "code",
   "execution_count": 5,
   "metadata": {},
   "outputs": [],
   "source": [
    "pop_df = pd.read_csv('raw_data/NYC_DECENNIALPL2020.P2_2022-04-20T183814/DECENNIALPL2020.P2_data_with_overlays_2022-04-20T183715.csv', skiprows = [1])\n",
    "pop_df.rename(columns = {'P2_001N':'2020Pop'}, inplace = True)\n",
    "pop_df = pop_df[['GEO_ID','2020Pop']]\n",
    "\n",
    "#GEOID needs to be adjusted to match other dataframe for merge\n",
    "pop_df['geoid'] = pop_df['GEO_ID'].apply(lambda str_val: str_val.split('US')[1])"
   ]
  },
  {
   "cell_type": "markdown",
   "metadata": {},
   "source": [
    "### Merge population data with blocks on GEOID columns"
   ]
  },
  {
   "cell_type": "code",
   "execution_count": 6,
   "metadata": {},
   "outputs": [],
   "source": [
    "pop_gdf = block_gdf.merge(pop_df, on = 'geoid', how = 'left')\n",
    "pop_gdf.drop_duplicates(inplace = True) #upon examination it's returning two identical rows for each GEOID, but otherwise working as expected"
   ]
  },
  {
   "cell_type": "code",
   "execution_count": 75,
   "metadata": {},
   "outputs": [],
   "source": [
    "pop_gdf.to_file('processed_data/nyc_block_population_2020.shp')"
   ]
  },
  {
   "cell_type": "markdown",
   "metadata": {},
   "source": [
    "### Load the 311 flooding data\n",
    "Use the below variable to specify whether you want to use the API or load the data that has already been pulled via the API and saved as CSV (takes a long time to pull all the records from the API)"
   ]
  },
  {
   "cell_type": "code",
   "execution_count": 7,
   "metadata": {},
   "outputs": [],
   "source": [
    "use_API = False"
   ]
  },
  {
   "cell_type": "markdown",
   "metadata": {},
   "source": [
    "### Function to clean 311 data"
   ]
  },
  {
   "cell_type": "code",
   "execution_count": 8,
   "metadata": {},
   "outputs": [],
   "source": [
    "def clean_311_dtypes(df_):\n",
    "    '''\n",
    "    Takes the 311 raw data as a pandas dataframe and returns a cleaned version of the dataframe\n",
    "    '''\n",
    "    #Format datatypes\n",
    "    date_cols = ['created_date','closed_date']\n",
    "    for date_col in date_cols:\n",
    "        df_[date_col] = pd.to_datetime(df_[date_col], errors='coerce')\n",
    "\n",
    "    #Make complaints all uppercase\n",
    "    df_['complaint_type'] = df_['complaint_type'].str.upper()\n",
    "    df_['descriptor'] = df_['descriptor'].str.upper()\n",
    "\n",
    "    #Load zipcodes as strings\n",
    "    df_['incident_zip'].fillna(-1, inplace = True)\n",
    "    df_['incident_zip'] = df_['incident_zip'].astype('int').astype('str')\n",
    "    df_['incident_zip'].replace('-1', 'NaN', inplace = True)\n",
    "    \n",
    "    #Strip whitespace at beginning and end of all columns with text datatype\n",
    "    df_text_object = df_.select_dtypes(include='object')\n",
    "    for text_col in df_text_object.columns:\n",
    "        df_[text_col] = df_[text_col].str.strip()\n",
    "    \n",
    "    return df_\n"
   ]
  },
  {
   "cell_type": "code",
   "execution_count": 9,
   "metadata": {},
   "outputs": [],
   "source": [
    "if use_API:\n",
    "    #Iteration parameters to extract all records assigned to DEP\n",
    "    current_date='2022-01-01T00:00:00'\n",
    "    number_rows = 99999999999999\n",
    "    chunk = 50000\n",
    "    max_iter = round(number_rows/chunk)\n",
    "\n",
    "    #Iterate using API\n",
    "    chunks=[]\n",
    "    for i in range(max_iter):\n",
    "        offset = i*chunk\n",
    "        url = \"https://data.cityofnewyork.us/resource/erm2-nwe9.json?agency=DEP&$where=created_date<'{}'&$limit={}&$offset={}&$$app_token=yAQjs6GyBtluCkiXf0SChl4VB\".format(current_date, chunk, offset)\n",
    "        print('Iter: {}'.format(i))\n",
    "        payload = {}\n",
    "        headers= {}\n",
    "\n",
    "        response = requests.request(\"GET\", url, headers=headers, data = payload)\n",
    "        if (response.status_code == 200) & ('[]' not in response.text):\n",
    "            df_311_chunk = pd.read_json(response.text)\n",
    "            chunks.append(df_311_chunk)\n",
    "        else:\n",
    "            break\n",
    "            \n",
    "        #Concat chunks into one dataset\n",
    "        df_311 = pd.concat(chunks, sort = False)\n",
    "\n",
    "        #Clean data\n",
    "#         display(df_311)\n",
    "#         print(df_311.columns)\n",
    "        df_311 = clean_311_dtypes(df_311)\n",
    "        display(df_311.head(2))\n",
    "\n",
    "        #Check for duplicates in case the offsets were inclusive of the domain and are overlapping\n",
    "        df_311_no_duplicates = df_311.drop_duplicates(subset = 'unique_key')\n",
    "\n",
    "        if df_311_no_duplicates.shape[0] == df_311.shape[0]:\n",
    "            df_311 = df_311_no_duplicates.copy()\n",
    "            del df_311_no_duplicates\n",
    "\n",
    "        print('Number of records assigned to the DEP: {}'.format(df_311.shape[0]))\n",
    "\n",
    "        flood_records = df_311[(df_311['descriptor'].str.contains('FLOOD')) & (~df_311['descriptor'].isna())]\n",
    "        flood_records.groupby(['complaint_type','descriptor'])['unique_key'].count()\n",
    "\n",
    "        flood_records.to_csv('raw_data/flood_records_311.csv')\n",
    "else: #Load from csv\n",
    "    #Load in the flood records from csv\n",
    "    flood_records = pd.read_csv(\"raw_data/flood_records_311.csv\")\n",
    "    flood_records = clean_311_dtypes(flood_records)\n",
    "\n",
    "    #Drop unamed columns\n",
    "    flood_records = flood_records[[column for column in flood_records.columns if 'Unnamed' not in column]]"
   ]
  },
  {
   "cell_type": "markdown",
   "metadata": {},
   "source": [
    "### Prepare the flood records for analysis and mapping"
   ]
  },
  {
   "cell_type": "code",
   "execution_count": 10,
   "metadata": {},
   "outputs": [
    {
     "data": {
      "text/plain": [
       "array(['THE DEPARTMENT OF ENVIRONMENTAL PROTECTION DETERMINED THAT THIS COMPLAINT IS A DUPLICATE OF A PREVIOUSLY FILED COMPLAINT. THE ORIGINAL COMPLAINT IS BEING ADDRESSED.'],\n",
       "      dtype=object)"
      ]
     },
     "execution_count": 10,
     "metadata": {},
     "output_type": "execute_result"
    }
   ],
   "source": [
    "#Drop the records that are duplicate complaints according to the resolution description\n",
    "flood_records = flood_records[~flood_records['resolution_description'].isna()]\n",
    "flood_records['resolution_description'] = flood_records['resolution_description'].str.upper()\n",
    "flood_records[flood_records['resolution_description'].str.contains('DUPLICATE')]['resolution_description'].unique()"
   ]
  },
  {
   "cell_type": "code",
   "execution_count": 11,
   "metadata": {},
   "outputs": [],
   "source": [
    "#Throw out those that are missing lat/long\n",
    "flood_records = flood_records[~((flood_records['latitude'].isna())|(flood_records['longitude'].isna()))]\n",
    "flood_gdf = gpd.GeoDataFrame(flood_records, geometry=gpd.points_from_xy(flood_records['longitude'], flood_records['latitude']), crs=\"epsg:4326\")\n"
   ]
  },
  {
   "cell_type": "markdown",
   "metadata": {},
   "source": [
    "### Look at how complaints have varied over time"
   ]
  },
  {
   "cell_type": "code",
   "execution_count": 12,
   "metadata": {},
   "outputs": [
    {
     "data": {
      "text/plain": [
       "<AxesSubplot:xlabel='created_year'>"
      ]
     },
     "execution_count": 12,
     "metadata": {},
     "output_type": "execute_result"
    },
    {
     "data": {
      "image/png": "[encoded data removed]",
      "text/plain": [
       "<Figure size 432x288 with 1 Axes>"
      ]
     },
     "metadata": {
      "needs_background": "light"
     },
     "output_type": "display_data"
    }
   ],
   "source": [
    "flood_gdf['created_year'] = pd.DatetimeIndex(flood_records['created_date']).year\n",
    "flood_gdf.groupby('created_year')['unique_key'].count().plot.bar()"
   ]
  },
  {
   "cell_type": "markdown",
   "metadata": {},
   "source": [
    "### Export"
   ]
  },
  {
   "cell_type": "code",
   "execution_count": 18,
   "metadata": {},
   "outputs": [],
   "source": [
    "flood_gdf.to_file('processed_data/311_flooding.geojson', driver = 'GeoJSON')"
   ]
  },
  {
   "cell_type": "code",
   "execution_count": null,
   "metadata": {},
   "outputs": [],
   "source": []
  }
 ],
 "metadata": {
  "kernelspec": {
   "display_name": "geo_env_work",
   "language": "python",
   "name": "geo_env_work"
  },
  "language_info": {
   "codemirror_mode": {
    "name": "ipython",
    "version": 3
   },
   "file_extension": ".py",
   "mimetype": "text/x-python",
   "name": "python",
   "nbconvert_exporter": "python",
   "pygments_lexer": "ipython3",
   "version": "3.9.5"
  }
 },
 "nbformat": 4,
 "nbformat_minor": 2
}
